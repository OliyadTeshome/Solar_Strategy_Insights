{
 "cells": [
  {
   "cell_type": "markdown",
   "id": "6cf77822",
   "metadata": {},
   "source": [
    "# **Cross-Country Comparison**\n",
    "---\n",
    "## **Objective:**\n",
    "### Synthesizing the cleaned datasets from Benin, Sierra Leone, and Togo to identify relative solar potential and key differences across countries.\n",
    "---"
   ]
  },
  {
   "cell_type": "code",
   "execution_count": 6,
   "id": "3fc73b7a",
   "metadata": {},
   "outputs": [
    {
     "ename": "ModuleNotFoundError",
     "evalue": "No module named 'scripts.viz_utils'",
     "output_type": "error",
     "traceback": [
      "\u001b[31m---------------------------------------------------------------------------\u001b[39m",
      "\u001b[31mModuleNotFoundError\u001b[39m                       Traceback (most recent call last)",
      "\u001b[36mCell\u001b[39m\u001b[36m \u001b[39m\u001b[32mIn[6]\u001b[39m\u001b[32m, line 6\u001b[39m\n\u001b[32m      3\u001b[39m sys.path.append(os.path.abspath(\u001b[33m'\u001b[39m\u001b[33m..\u001b[39m\u001b[33m'\u001b[39m))  \u001b[38;5;66;03m# Adds project root to sys.path\u001b[39;00m\n\u001b[32m      5\u001b[39m \u001b[38;5;28;01mimport\u001b[39;00m\u001b[38;5;250m \u001b[39m\u001b[34;01mpandas\u001b[39;00m\u001b[38;5;250m \u001b[39m\u001b[38;5;28;01mas\u001b[39;00m\u001b[38;5;250m \u001b[39m\u001b[34;01mpd\u001b[39;00m\n\u001b[32m----> \u001b[39m\u001b[32m6\u001b[39m \u001b[38;5;28;01mfrom\u001b[39;00m\u001b[38;5;250m \u001b[39m\u001b[34;01mscripts\u001b[39;00m\u001b[34;01m.\u001b[39;00m\u001b[34;01mviz_utils\u001b[39;00m\u001b[38;5;250m \u001b[39m\u001b[38;5;28;01mimport\u001b[39;00m (\n\u001b[32m      7\u001b[39m     load_and_combine_data,\n\u001b[32m      8\u001b[39m     plot_metric_boxplots,\n\u001b[32m      9\u001b[39m     create_summary_table,\n\u001b[32m     10\u001b[39m     run_kruskal_wallis,\n\u001b[32m     11\u001b[39m     plot_ghi_ranking\n\u001b[32m     12\u001b[39m )\n",
      "\u001b[31mModuleNotFoundError\u001b[39m: No module named 'scripts.viz_utils'"
     ]
    }
   ],
   "source": [
    "import sys\n",
    "import os\n",
    "sys.path.append(os.path.abspath('..'))  # Adds project root to sys.path\n",
    "\n",
    "import pandas as pd\n",
    "from scripts.viz_utils import (\n",
    "    load_and_combine_data,\n",
    "    plot_metric_boxplots,\n",
    "    create_summary_table,\n",
    "    run_kruskal_wallis,\n",
    "    plot_ghi_ranking\n",
    ")"
   ]
  },
  {
   "cell_type": "markdown",
   "id": "c3536e73",
   "metadata": {},
   "source": []
  }
 ],
 "metadata": {
  "language_info": {
   "name": "python"
  }
 },
 "nbformat": 4,
 "nbformat_minor": 5
}
