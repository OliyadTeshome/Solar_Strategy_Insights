{
 "cells": [
  {
   "cell_type": "markdown",
   "id": "8d207e3a",
   "metadata": {},
   "source": [
    "# **Cross-Country Comparison**\n",
    "---\n",
    "## **Objective:**\n",
    "### Synthesizing the cleaned datasets from Benin, Sierra Leone, and Togo to identify relative solar potential and key differences across countries.\n",
    "---"
   ]
  },
  {
   "cell_type": "code",
   "execution_count": 9,
   "id": "89be6239",
   "metadata": {},
   "outputs": [],
   "source": [
    "import sys\n",
    "import os\n",
    "sys.path.append(os.path.abspath('..'))  # Adds project root to sys.path\n",
    "\n",
    "import pandas as pd\n",
    "from Scripts.viz_utils import (\n",
    "    load_and_combine_data,\n",
    "    plot_metric_boxplots,\n",
    "    create_summary_table,\n",
    "    run_kruskal_wallis,\n",
    "    plot_ghi_ranking\n",
    ")"
   ]
  },
  {
   "cell_type": "markdown",
   "id": "d0fbad7d",
   "metadata": {},
   "source": [
    "## Loading the cleaned CSV files into a pandas DataFrame"
   ]
  },
  {
   "cell_type": "code",
   "execution_count": 11,
   "id": "1f805d6d",
   "metadata": {},
   "outputs": [],
   "source": [
    "# Load data\n",
    "df = load_and_combine_data(\n",
    "    '../cleaned_data/benin_clean.csv',\n",
    "    '../cleaned_data/sierraleone_clean.csv',\n",
    "    '../cleaned_data/togo_clean.csv'\n",
    ")"
   ]
  },
  {
   "cell_type": "markdown",
   "id": "1a754e63",
   "metadata": {},
   "source": [
    "## 1. Metric Comparison\n",
    "## Boxplots of GHI, DNI, DHI side-by-side (one plot per metric, colored by country)."
   ]
  }
 ],
 "metadata": {
  "language_info": {
   "name": "python"
  }
 },
 "nbformat": 4,
 "nbformat_minor": 5
}
